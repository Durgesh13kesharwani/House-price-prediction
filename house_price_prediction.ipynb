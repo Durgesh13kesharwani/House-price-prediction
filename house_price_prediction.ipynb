{
  "nbformat": 4,
  "nbformat_minor": 0,
  "metadata": {
    "colab": {
      "provenance": []
    },
    "kernelspec": {
      "name": "python3",
      "display_name": "Python 3"
    },
    "language_info": {
      "name": "python"
    }
  },
  "cells": [
    {
      "cell_type": "code",
      "execution_count": 6,
      "metadata": {
        "id": "t5kmzNXhWs3Z"
      },
      "outputs": [],
      "source": [
        "import pandas as pd\n",
        "import numpy as np\n",
        "from sklearn.model_selection import train_test_split, cross_val_score\n",
        "from sklearn.preprocessing import StandardScaler, LabelEncoder\n",
        "from sklearn.impute import SimpleImputer\n",
        "from sklearn.pipeline import Pipeline\n",
        "from sklearn.compose import ColumnTransformer\n",
        "from sklearn.linear_model import LinearRegression\n",
        "from sklearn.metrics import mean_squared_error\n",
        "from sklearn.ensemble import RandomForestRegressor\n",
        "from sklearn.metrics import r2_score"
      ]
    },
    {
      "cell_type": "code",
      "source": [
        "# Load datasets\n",
        "train_df = pd.read_csv('train.csv')\n",
        "test_df = pd.read_csv('test.csv')\n",
        "\n",
        "# Data Preprocessing and Feature Engineering\n",
        "\n",
        "# Separate target variable\n",
        "y = train_df['SalePrice']\n",
        "train_df.drop(['SalePrice'], axis=1, inplace=True)\n",
        "\n",
        "# Concatenate train and test data for consistent preprocessing\n",
        "data = pd.concat([train_df, test_df], sort=False)\n",
        "\n",
        "# Handle missing values\n",
        "numerical_features = data.select_dtypes(include=[np.number]).columns\n",
        "categorical_features = data.select_dtypes(include=[object]).columns\n",
        "\n",
        "num_imputer = SimpleImputer(strategy='mean')\n",
        "cat_imputer = SimpleImputer(strategy='most_frequent')\n",
        "\n",
        "data[numerical_features] = num_imputer.fit_transform(data[numerical_features])\n",
        "data[categorical_features] = cat_imputer.fit_transform(data[categorical_features])\n",
        "\n",
        "# Encode categorical features\n",
        "label_encoders = {}\n",
        "for col in categorical_features:\n",
        "    le = LabelEncoder()\n",
        "    data[col] = le.fit_transform(data[col])\n",
        "    label_encoders[col] = le"
      ],
      "metadata": {
        "id": "uWj74vZgYvra"
      },
      "execution_count": 2,
      "outputs": []
    },
    {
      "cell_type": "code",
      "source": [
        "# Split back into train and test sets\n",
        "train_df = data.iloc[:len(y), :]\n",
        "test_df = data.iloc[len(y):, :]\n",
        "\n",
        "# Feature scaling\n",
        "scaler = StandardScaler()\n",
        "train_df[numerical_features] = scaler.fit_transform(train_df[numerical_features])\n",
        "test_df[numerical_features] = scaler.transform(test_df[numerical_features])\n",
        "\n",
        "# Split the training data into train and validation sets\n",
        "X_train, X_valid, y_train, y_valid = train_test_split(train_df, y, test_size=0.2, random_state=42)"
      ],
      "metadata": {
        "colab": {
          "base_uri": "https://localhost:8080/"
        },
        "id": "DjnMLTpuZA1W",
        "outputId": "b91bb14a-0691-4a23-c2bf-bf1a701d8e8e"
      },
      "execution_count": 3,
      "outputs": [
        {
          "output_type": "stream",
          "name": "stderr",
          "text": [
            "<ipython-input-3-c9bd5ff11377>:7: SettingWithCopyWarning: \n",
            "A value is trying to be set on a copy of a slice from a DataFrame.\n",
            "Try using .loc[row_indexer,col_indexer] = value instead\n",
            "\n",
            "See the caveats in the documentation: https://pandas.pydata.org/pandas-docs/stable/user_guide/indexing.html#returning-a-view-versus-a-copy\n",
            "  train_df[numerical_features] = scaler.fit_transform(train_df[numerical_features])\n",
            "<ipython-input-3-c9bd5ff11377>:8: SettingWithCopyWarning: \n",
            "A value is trying to be set on a copy of a slice from a DataFrame.\n",
            "Try using .loc[row_indexer,col_indexer] = value instead\n",
            "\n",
            "See the caveats in the documentation: https://pandas.pydata.org/pandas-docs/stable/user_guide/indexing.html#returning-a-view-versus-a-copy\n",
            "  test_df[numerical_features] = scaler.transform(test_df[numerical_features])\n"
          ]
        }
      ]
    },
    {
      "cell_type": "code",
      "source": [
        "# Model training\n",
        "model = RandomForestRegressor(n_estimators=100, random_state=42)\n",
        "model.fit(X_train, y_train)\n",
        "\n",
        "# Model evaluation\n",
        "y_pred = model.predict(X_valid)\n",
        "rmse = np.sqrt(mean_squared_error(y_valid, y_pred))\n",
        "r2 = r2_score(y_valid, y_pred)\n",
        "\n",
        "print(f'Validation RMSE: {rmse}')\n",
        "print(f'Validation R^2 Score: {r2}')\n",
        "\n",
        "# Train on the full training set and predict on the test set\n",
        "model.fit(train_df, y)\n",
        "test_predictions = model.predict(test_df)\n"
      ],
      "metadata": {
        "colab": {
          "base_uri": "https://localhost:8080/"
        },
        "id": "thY0f3xGZKbC",
        "outputId": "5bafa53f-9575-4364-9110-8bbb3a2092a9"
      },
      "execution_count": 7,
      "outputs": [
        {
          "output_type": "stream",
          "name": "stdout",
          "text": [
            "Validation RMSE: 28718.585783418937\n",
            "Validation R^2 Score: 0.8924743032927607\n"
          ]
        }
      ]
    },
    {
      "cell_type": "code",
      "source": [
        "# Create submission file\n",
        "submission = pd.read_csv('sample_submission.csv')\n",
        "submission['SalePrice'] = test_predictions\n",
        "submission.to_csv('submission.csv', index=False)"
      ],
      "metadata": {
        "id": "hFbFCkxTZS_M"
      },
      "execution_count": 8,
      "outputs": []
    }
  ]
}